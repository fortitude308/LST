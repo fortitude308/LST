{
 "cells": [
  {
   "cell_type": "markdown",
   "id": "ec092a2c",
   "metadata": {},
   "source": [
    "紀錄線性系統學習的一切，混雜幾本書，盡量把不明白的讀懂"
   ]
  },
  {
   "cell_type": "markdown",
   "id": "ef206253",
   "metadata": {},
   "source": [
    "# Table of Contents\n",
    "* [CH1: 系統模型、微分方程、初值問題](#CH1)\n",
    "    * [1.1 Introduction](#1.1_intro)\n",
    "        * [Physical Processes, Models, and Mathematical Descriptions](#1.1_PPMMD)\n",
    "        * [Classification of Systems](#1.1_CS)\n",
    "        * [Finite-Dimensional Systems](#1.1_FDS)\n",
    "* [Chapter 1](#chapter1)\n",
    "    * [Section 1.1](#section_1_1)\n",
    "        * [Sub Section 1.1.1](#sub_section_1_1_1)\n",
    "* [Chapter 2](#chapter2)\n",
    "    * [Section 2.1](#section_2_1)\n",
    "        * [Sub Section 2.1.1](#sub_section_2_1_1)\n",
    "        * [Sub Section 2.1.2](#sub_section_2_1_2)\n",
    "    * [Section 2.2](#section_2_2)\n",
    "        * [Sub Section 2.2.1](#sub_section_2_2_1)\n",
    "        * [Sub Section 2.2.2](#sub_section_2_2_2)\n",
    "* [Appendix](#Appendix1)\n",
    "    * [Appendix 1](#appendix_1)"
   ]
  },
  {
   "cell_type": "markdown",
   "id": "a23fe362",
   "metadata": {},
   "source": [
    "# 系統模型、微分方程、初值問題 <a class=\"anchor\" id=\"CH1\"></a>"
   ]
  },
  {
   "cell_type": "markdown",
   "id": "d164d597",
   "metadata": {},
   "source": [
    "## 1.1 Introduction <a class=\"anchor\" id=\"1.1_intro\"></a>\n",
    "\n",
    "系統的動態行為可以通過研究它們的數學描述來理解。例如，根據某些引擎推力、舵角和升降機角度，以及特定的風條件，飛機的飛行路徑，或者汽車在爬上某個山丘時的定速控制行為，都可以使用與相關行為的數學描述來預測。數學方程式，通常是微分方程或差分方程，被用來描述過程的行為並預測對某些輸入的反應。雖然電腦模擬是驗證預測行為的優秀工具，且能增進我們對過程的理解，但當數學模型可用時，它絕對不足以替代產生所捕捉到的資訊。\n",
    "\n",
    "本章為線性連續時間和線性離散時間有限維度系統開發的數學描述。由於這樣的系統經常是非線性系統經過線性化後的結果，或者是在物理系統的建模過程中，非線性效應被壓制或忽略的結果，因此這些線性系統的來源經常是非線性系統。因此，在這裡和第四章，當我們處理某些質的方面（如系統方程解的存在性、唯一性、延續性和對參數的連續性，平衡的穩定性等），我們考慮線性和非線性系統模型，儘管本書的其餘部分僅與線性系統有關。\n",
    "\n",
    "在這一章中，我們將在這個介紹的其餘部分和第1.1節中討論數學模型和模型的分類。在第1.2節中，我們提供了一些使用的記號，並回顧了有關連續函數的某些事實。在第1.3節中，我們介紹了初值問題，並在第1.4節中給出了幾個具體的例子。在第1.5節中，我們提出了確保初值問題的解的存在性、延續性和唯一性的結果，以及確保初值問題的解對初始條件和系統參數連續依賴的結果。在這一節中，我們還介紹了連續逼近法來決定初值問題的解。第1.5節的結果涉及到的微分方程通常是非線性的。在第1.6節中，我們討論了這樣的方程的線性化，並提供了幾個具體的例子。\n",
    "\n",
    "我們利用第1.5節的結果，在第1.7節中確定了由線性常微分方程確定的初值問題的解的存在性、唯一性、延續性，以及對初始條件和參數的連續性的條件。\n",
    "\n",
    "在第1.8節中，我們確定了線性常微分方程的解，並首次引入了狀態和狀態轉移矩陣的概念。我們也提出了常數變化公式來解線性非齊次常微分方程，並引入了齊次解和特解的概念。\n",
    "\n",
    "總結來說，第1.3節到1.8節的目的是提供與常微分方程和初值問題相關的材料，這些材料在研究連續時間有限維度系統時是必不可少的。這些材料將使我們能夠引入連續時間有限維度系統的狀態空間方程表示。這一介紹將在下一章完成。"
   ]
  },
  {
   "cell_type": "markdown",
   "id": "abc3f3b2",
   "metadata": {},
   "source": [
    "### 物理過程、模型與數學描述 <a class=\"anchor\" id=\"1.1_PPMMD\"></a>\n",
    "\n",
    "對物理現象的系統化研究通常從模型建立過程開始。模型的範例包括由電阻、電感、電容、電晶體、二極體、電壓或電流源等組成的電路圖；由點質量、彈簧、粘滯阻尼器、施加的外力等組成的機械電路；對經濟和社會系統的語言描述等等。接著，調用適當的定律或原則來產生描述這些數學模型的等式(例如，克希荷夫的電流和電壓定律、牛頓定律、守恒定律等等)。當我們使用“考慮一個由常微分方程式描述的系統”這樣的表達時，我們將會想到一個由適當的常微分方程式集描述的現象。\n",
    "\n",
    "一個物理過程（物理系統）通常會產生幾種不同的模型，這取決於我們要問的問題。例如，在研究晶體管的電壓-電流特性（物理過程）時，我們可能會使用一個在低頻時有效的電路（模型），或者一個在高頻時有效的電路（第二種模型）；另外，如果我們對半導體雜質感興趣，那麼一種與前兩種完全不同的第三種模型將會是合適的。\n",
    "\n",
    "* HS補充: 在此物理過程 = physical process = 物理系統 = physical model"
   ]
  },
  {
   "cell_type": "markdown",
   "id": "deeda220",
   "metadata": {},
   "source": [
    "### Classification of Systems <a class=\"anchor\" id=\"1.1_CS\"></a>"
   ]
  },
  {
   "cell_type": "markdown",
   "id": "530b285d",
   "metadata": {},
   "source": [
    "### Finite-Dimensional Systems <a class=\"anchor\" id=\"1.1_FDS\"></a>"
   ]
  },
  {
   "cell_type": "markdown",
   "id": "e67cd837",
   "metadata": {},
   "source": [
    "## Chapter 1 <a class=\"anchor\" id=\"chapter1\"></a>\n",
    "This is chapter number 1\n",
    "### Section 1.1 <a class=\"anchor\" id=\"section_1_1\"></a>\n",
    "This is section 1.1\n",
    "##### Section 1.1.1 <a class=\"anchor\" id=\"sub_section_1_1_1\"></a>\n",
    "This is sub section 1.1.1"
   ]
  },
  {
   "cell_type": "markdown",
   "id": "1d81382e",
   "metadata": {},
   "source": [
    "## Chapter 2 <a class=\"anchor\" id=\"chapter2\"></a>\n",
    "This is chapter number 2\n",
    "### Section 2.1 <a class=\"anchor\" id=\"section_2_1\"></a>\n",
    "This is section 2.1\n",
    "#### Section 2.1.1 <a class=\"anchor\" id=\"sub_section_2_1_1\"></a>\n",
    "This is sub section 2.1.1\n",
    "#### Section 2.1.2 <a class=\"anchor\" id=\"sub_section_2_1_2\"></a>\n",
    "This is sub section 2.1.2\n",
    "### Section 2.2 <a class=\"anchor\" id=\"section_2_2\"></a>\n",
    "This is section 2.2\n",
    "#### Section 2.2.1 <a class=\"anchor\" id=\"sub_section_2_2_1\"></a>\n",
    "This is sub section 2.2.1\n",
    "#### Section 2.2.2 <a class=\"anchor\" id=\"sub_section_2_2_2\"></a>\n",
    "This is sub section 2.2.2"
   ]
  },
  {
   "cell_type": "code",
   "execution_count": null,
   "id": "0ccd4b7b",
   "metadata": {},
   "outputs": [],
   "source": []
  }
 ],
 "metadata": {
  "kernelspec": {
   "display_name": "Python 3 (ipykernel)",
   "language": "python",
   "name": "python3"
  },
  "language_info": {
   "codemirror_mode": {
    "name": "ipython",
    "version": 3
   },
   "file_extension": ".py",
   "mimetype": "text/x-python",
   "name": "python",
   "nbconvert_exporter": "python",
   "pygments_lexer": "ipython3",
   "version": "3.9.12"
  }
 },
 "nbformat": 4,
 "nbformat_minor": 5
}
