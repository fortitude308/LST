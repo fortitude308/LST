{
 "cells": [
  {
   "cell_type": "markdown",
   "id": "bc7ac172",
   "metadata": {},
   "source": [
    "# Linear System Theory Note-1: Linear Algebra\n",
    "\n",
    "主要以老師的第一章節為主，並參考一些其他書籍的資料"
   ]
  },
  {
   "cell_type": "markdown",
   "id": "a51cc774",
   "metadata": {},
   "source": [
    "## Linear Function\n",
    "\n",
    "假設任一函數$f$為線性函數，需要滿足下列二定義<br>\n",
    "1. $f(x+y) = f(x) + f(y),~\\forall x,y \\in \\mathbb{R}^n$ <br>\n",
    "2. $f(\\alpha x) = \\alpha f(x),~\\forall x \\in \\mathbb{R}^n,~\\forall \\alpha \\in \\mathbb{R}$\n",
    "\n",
    "#### Example \n",
    "$f(x) = Ax$, where $A \\in \\mathbb{R}^{m \\times n}$, is a linear function <br>\n",
    "$f(x+z) = A(x+z) = Ax + Az = f(x) + f(z)$ <br>\n",
    "$f(\\alpha x) = A(\\alpha x) = \\alpha (Ax) = \\alpha f(x)$\n",
    "\n",
    "#### Fact\n",
    "Any linear function $f:\\mathbb{R}^n \\rightarrow \\mathbb{R}^m$ can be written as $f(x) = A x$ for some $A \\in \\mathbb{R}^{n\\times m}$. <br>\n",
    "Hence $f:\\mathbb{R}^n \\rightarrow \\mathbb{R}^m$ is $\\textbf{linear}$ if and only if $f(x) = A x$ for some $A \\in \\mathbb{R}^{n\\times m}$."
   ]
  },
  {
   "cell_type": "markdown",
   "id": "9f5c9083",
   "metadata": {},
   "source": [
    "## Linearization\n",
    "\n",
    "If $f:\\mathbb{R}^n$"
   ]
  },
  {
   "cell_type": "markdown",
   "id": "dd8f830a",
   "metadata": {},
   "source": [
    "## Vector Space"
   ]
  },
  {
   "cell_type": "markdown",
   "id": "0643caea",
   "metadata": {},
   "source": [
    "## Subspace"
   ]
  },
  {
   "cell_type": "markdown",
   "id": "b3b14301",
   "metadata": {},
   "source": [
    "## Linear Independent"
   ]
  },
  {
   "cell_type": "markdown",
   "id": "2437dbf5",
   "metadata": {},
   "source": [
    "## Span"
   ]
  },
  {
   "cell_type": "markdown",
   "id": "0d787152",
   "metadata": {},
   "source": [
    "## Basis"
   ]
  },
  {
   "cell_type": "markdown",
   "id": "d1395b54",
   "metadata": {},
   "source": [
    "## Dimension"
   ]
  },
  {
   "attachments": {
    "image.png": {
     "image/png": "[encoded data removed]"
    }
   },
   "cell_type": "markdown",
   "id": "a2a22af1",
   "metadata": {},
   "source": [
    "## Linear Transformation\n",
    "\n",
    "Functions that $\\mathbf{map}$ a vector space $V$ into a vector space $W$ is denoted by \n",
    "\n",
    "$$T:V \\rightarrow W$$\n",
    "\n",
    "$V$ is called the $\\mathbf{domain}$ of $T$, and W is called the $\\mathbf{codomain}$ of $T$. If $\\mathbf{v} \\in V$ and $\\mathbf{w} \\in W$ such that\n",
    "\n",
    "$$T(\\mathbf{v}) = \\mathbf{w}$$.\n",
    "\n",
    "Then $\\mathbf{w}$ is called the $\\mathbf{image}$ of $\\mathbf{v}$ under the linear transformation $T$.\n",
    "\n",
    "![image.png](attachment:image.png)\n",
    "\n",
    "有關range的定義有以下描述\n",
    "\n",
    "The set of all images of vectors in the codomain $W$ is called the range of $T$.\n",
    "\n",
    "The subset of the codomain that consists of all images of elements in the domain is called the $\\mathbf{range}$ of $T$. "
   ]
  },
  {
   "cell_type": "markdown",
   "id": "10180690",
   "metadata": {},
   "source": [
    "## Kernel\n",
    "Let $T:V \\rightarrow W$ be a linear transformation. Then the set of all vectors $\\mathbf{v}$ in $V$ that satisfy $T(\\mathbf{v})=0$ is called the kernel of T and is denoted by ker(T).\n",
    "\n",
    "Let $T:\\mathbb{R}^n \\rightarrow \\mathbb{R}^m$ be the linear transformation given by $T(\\mathbf{x}) = A(\\mathbf{x})$. Then the kernel of $T$ is equal to the solution space of $A\\mathbf{x} = 0$."
   ]
  },
  {
   "cell_type": "code",
   "execution_count": null,
   "id": "383850ca",
   "metadata": {},
   "outputs": [],
   "source": []
  },
  {
   "cell_type": "markdown",
   "id": "8d93fab8",
   "metadata": {},
   "source": [
    "## Null Space\n",
    "If A is an $m \\times n$ matrix\n",
    "\n",
    "1. The subspace of $\\mathbb{R}^n$ spanned by the row vectors of A is called the row space of A\n",
    "2. The subspace of $\\mathbb{R}^m$ spanned by the column vectors of A is called the column space of A. \n",
    "3. The solution space of the homogeneous system of equations $Ax = 0$, which is a subspace of $\\mathbb{R}^n$, is called the null space of A."
   ]
  },
  {
   "cell_type": "markdown",
   "id": "bebfdc01",
   "metadata": {},
   "source": [
    "## Range\n",
    "\n",
    "\n",
    "\n",
    "#### <Wiki定義>\n",
    "The column space(=range) of a matrix $A$ is the span (set of all possible linear combinations) of its column vectors.<br>\n",
    "\n",
    "也就是說對於一個 matrix $A$, range is the span of it's column vectors.\n",
    "\n",
    "#### <Elementary Linear Algebra定義>\n",
    "The range of $T:V\\rightarrow W$ is the set of all vectors $\\mathbf{w}$ in $W$ that are images of vectors in $V$. That is range($T$)$=\\{ T(\\mathbf{v}):\\mathbf{v} ~\\text{is in}~V \\}$"
   ]
  },
  {
   "cell_type": "markdown",
   "id": "760a59bf",
   "metadata": {},
   "source": [
    "\n"
   ]
  },
  {
   "cell_type": "markdown",
   "id": "96673c82",
   "metadata": {},
   "source": [
    "## Inverse\n",
    "\n",
    "#### Minors and Cofactors<br>\n",
    "<img src=\"img/minors_and_cofactors.png\" alt=\"Drawing\" style=\"float: left; width: 500px;\"/>\n",
    "\n",
    "#### Determinant\n",
    "\n",
    "#### Adjoint\n",
    "\n",
    "#### 反矩陣算法:"
   ]
  },
  {
   "cell_type": "markdown",
   "id": "0e1f80cd",
   "metadata": {},
   "source": [
    "## Rank"
   ]
  },
  {
   "cell_type": "markdown",
   "id": "3ae4e118",
   "metadata": {},
   "source": [
    "## Functions\n",
    "\n",
    "### Injective function(One-to-One, Injection)\n",
    "<img src=\"img/injective_functions.png\" width=\"500\">\n",
    "\n",
    "### Surjective function(Onto, Surjection)\n",
    "<img src=\"img/surjective_functions.png\" width=\"1000\">\n"
   ]
  },
  {
   "cell_type": "markdown",
   "id": "95998e12",
   "metadata": {},
   "source": []
  },
  {
   "cell_type": "markdown",
   "id": "0e7bf584",
   "metadata": {},
   "source": []
  },
  {
   "cell_type": "markdown",
   "id": "bec1bb54",
   "metadata": {},
   "source": []
  },
  {
   "cell_type": "markdown",
   "id": "ed88a1f9",
   "metadata": {},
   "source": []
  },
  {
   "cell_type": "markdown",
   "id": "c4043d36",
   "metadata": {},
   "source": []
  },
  {
   "cell_type": "markdown",
   "id": "425b2352",
   "metadata": {},
   "source": []
  },
  {
   "cell_type": "markdown",
   "id": "4dcd8070",
   "metadata": {},
   "source": []
  },
  {
   "cell_type": "markdown",
   "id": "f5dfb2da",
   "metadata": {},
   "source": []
  },
  {
   "cell_type": "markdown",
   "id": "dc6592d3",
   "metadata": {},
   "source": [
    "## References\n",
    "[1] 蕭得聖老師線性系統理論講義 <br>\n",
    "[2] 林清安老師線性系統理論講義 <br>\n",
    "[3] Professor Clare Tomlin linear system theory notes <br>\n",
    "[4] Linear System by Panos J. Antsaklis, Anthony N. Michel"
   ]
  }
 ],
 "metadata": {
  "kernelspec": {
   "display_name": "Python 3 (ipykernel)",
   "language": "python",
   "name": "python3"
  },
  "language_info": {
   "codemirror_mode": {
    "name": "ipython",
    "version": 3
   },
   "file_extension": ".py",
   "mimetype": "text/x-python",
   "name": "python",
   "nbconvert_exporter": "python",
   "pygments_lexer": "ipython3",
   "version": "3.9.12"
  }
 },
 "nbformat": 4,
 "nbformat_minor": 5
}
