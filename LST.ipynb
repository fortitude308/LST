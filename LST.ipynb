{
 "cells": [
  {
   "cell_type": "markdown",
   "id": "9caf771f",
   "metadata": {},
   "source": [
    "紀錄線性系統學習的一切，混雜幾本書，盡量把不明白的讀懂"
   ]
  },
  {
   "cell_type": "markdown",
   "id": "438e6ec0",
   "metadata": {},
   "source": [
    "## Table of Contents\n",
    "* [Introduction](#intro)\n",
    "* [Chapter 1](#chapter1)\n",
    "    * [Section 1.1](#section_1_1)\n",
    "        * [Sub Section 1.1.1](#sub_section_1_1_1)\n",
    "* [Chapter 2](#chapter2)\n",
    "    * [Section 2.1](#section_2_1)\n",
    "        * [Sub Section 2.1.1](#sub_section_2_1_1)\n",
    "        * [Sub Section 2.1.2](#sub_section_2_1_2)\n",
    "    * [Section 2.2](#section_2_2)\n",
    "        * [Sub Section 2.2.1](#sub_section_2_2_1)\n",
    "        * [Sub Section 2.2.2](#sub_section_2_2_2)\n",
    "* [Appendix](#Appendix1)\n",
    "    * [Appendix 1](#appendix_1)"
   ]
  },
  {
   "cell_type": "markdown",
   "id": "25932b79",
   "metadata": {},
   "source": [
    "## Introduction <a class=\"anchor\" id=\"intro\"></a>\n",
    "\n",
    "系統的動態行為可以通過研究它們的數學描述來理解。例如，根據某些引擎推力、舵角和升降機角度，以及特定的風條件，飛機的飛行路徑，或者汽車在爬上某個山丘時的定速控制行為，都可以使用與相關行為的數學描述來預測。數學方程式，通常是微分方程或差分方程，被用來描述過程的行為並預測對某些輸入的反應。雖然電腦模擬是驗證預測行為的絕佳工具，因此可以增強我們對過程的理解，但當有數學模型可用時，它絕對不足以替代在數學模型中捕獲的信息。\n",
    "\n",
    "本章為線性連續時間和線性離散時間有限維度系統開發的數學描述。由於這樣的系統經常是非線性系統經過線性化後的結果，或者是在物理系統的建模過程中，非線性效應被壓制或忽略的結果，因此這些線性系統的來源經常是非線性系統。因此，在這裡和第四章，當我們處理某些質的方面（如系統方程解的存在性、唯一性、延續性和對參數的連續性，平衡的穩定性等），我們考慮線性和非線性系統模型，儘管本書的其餘部分僅與線性系統有關。\n",
    "\n",
    "在這一章中，我們將在這個介紹的其餘部分和第1.1節中討論數學模型和模型的分類。在第1.2節中，我們提供了一些使用的記號，並回顧了有關連續函數的某些事實。在第1.3節中，我們介紹了初值問題，並在第1.4節中給出了幾個具體的例子。在第1.5節中，我們提出了確保初值問題的解的存在性、延續性和唯一性的結果，以及確保初值問題的解對初始條件和系統參數連續依賴的結果。在這一節中，我們還介紹了連續逼近法來決定初值問題的解。第1.5節的結果涉及到的微分方程通常是非線性的。在第1.6節中，我們討論了這樣的方程的線性化，並提供了幾個具體的例子。\n",
    "\n",
    "我們利用第1.5節的結果，在第1.7節中確定了由線性常微分方程確定的初值問題的解的存在性、唯一性、延續性，以及對初始條件和參數的連續性的條件。\n",
    "\n",
    "在第1.8節中，我們確定了線性常微分方程的解，並首次引入了狀態和狀態轉移矩陣的概念。我們也提出了常數變化公式來解線性非齊次常微分方程，並引入了齊次解和特解的概念。\n",
    "\n",
    "總結來說，第1.3節到1.8節的目的是提供與常微分方程和初值問題相關的材料，這些材料在研究連續時間有限維度系統時是必不可少的。這些材料將使我們能夠引入連續時間有限維度系統的狀態空間方程表示。這一介紹將在下一章完成。\n",
    "\n"
   ]
  },
  {
   "cell_type": "markdown",
   "id": "dce6a1b5",
   "metadata": {},
   "source": [
    "## Chapter 1 <a class=\"anchor\" id=\"chapter1\"></a>\n",
    "This is chapter number 1\n",
    "### Section 1.1 <a class=\"anchor\" id=\"section_1_1\"></a>\n",
    "This is section 1.1\n",
    "##### Section 1.1.1 <a class=\"anchor\" id=\"sub_section_1_1_1\"></a>\n",
    "This is sub section 1.1.1"
   ]
  },
  {
   "cell_type": "markdown",
   "id": "a0883de5",
   "metadata": {},
   "source": [
    "## Chapter 2 <a class=\"anchor\" id=\"chapter2\"></a>\n",
    "This is chapter number 2\n",
    "### Section 2.1 <a class=\"anchor\" id=\"section_2_1\"></a>\n",
    "This is section 2.1\n",
    "#### Section 2.1.1 <a class=\"anchor\" id=\"sub_section_2_1_1\"></a>\n",
    "This is sub section 2.1.1\n",
    "#### Section 2.1.2 <a class=\"anchor\" id=\"sub_section_2_1_2\"></a>\n",
    "This is sub section 2.1.2\n",
    "### Section 2.2 <a class=\"anchor\" id=\"section_2_2\"></a>\n",
    "This is section 2.2\n",
    "#### Section 2.2.1 <a class=\"anchor\" id=\"sub_section_2_2_1\"></a>\n",
    "This is sub section 2.2.1\n",
    "#### Section 2.2.2 <a class=\"anchor\" id=\"sub_section_2_2_2\"></a>\n",
    "This is sub section 2.2.2"
   ]
  },
  {
   "cell_type": "code",
   "execution_count": null,
   "id": "b55c62b2",
   "metadata": {},
   "outputs": [],
   "source": []
  }
 ],
 "metadata": {
  "kernelspec": {
   "display_name": "Python 3 (ipykernel)",
   "language": "python",
   "name": "python3"
  },
  "language_info": {
   "codemirror_mode": {
    "name": "ipython",
    "version": 3
   },
   "file_extension": ".py",
   "mimetype": "text/x-python",
   "name": "python",
   "nbconvert_exporter": "python",
   "pygments_lexer": "ipython3",
   "version": "3.9.12"
  }
 },
 "nbformat": 4,
 "nbformat_minor": 5
}
