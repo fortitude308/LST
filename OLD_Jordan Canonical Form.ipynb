{
 "cells": [
  {
   "cell_type": "markdown",
   "id": "19b959ea",
   "metadata": {},
   "source": [
    "# Jordan Canonical Form\n",
    "\n",
    "並非所有的 $n \\times n$ 矩陣都可以對角化，Jordan Canonical Form 是化簡這類矩陣的一種做法。\n",
    "\n",
    "## Diagonalizable\n",
    "An $n × n$ matrix A is diagonalizable if and only if \n",
    "* the sum of the dimensions of the eigenspaces is n. \n",
    "\n",
    "Or, equivalently, if and only if \n",
    "* A has n linearly independent eigenvectors\n",
    "\n",
    "## Complex matrices\n",
    "In general, any square complex matrix $A \\in \\mathbb{C}^{n \\times n}$ can be transformed into Jordan form by a similarity transformation \n",
    "\n",
    "$J = T^{-1}AT  = \\begin{bmatrix}\n",
    "J_1 & \\;     & \\; \\\\\n",
    "\\;  & \\ddots & \\; \\\\ \n",
    "\\;  & \\;     & J_r\\end{bmatrix}, \\text{where } T \\in \\mathbb{C}^{n \\times n} $\n",
    "\n",
    "\n",
    "\n",
    "where each block $J_i$ is a square matrix of the form\n",
    "\n",
    "$J_i = \n",
    "\\begin{bmatrix}\n",
    "\\lambda_i & 1            & \\;     & \\;  \\\\\n",
    "\\;        & \\lambda_i    & \\ddots & \\;  \\\\\n",
    "\\;        & \\;           & \\ddots & 1   \\\\\n",
    "\\;        & \\;           & \\;     & \\lambda_i       \n",
    "\\end{bmatrix} \\in \\mathbb{C}^{n_i \\times n_i},~~\\text{where}~\\sum^r_{i=1} n_i = n$\n",
    "\n",
    "$J_i$ is the $\\mathbf{Jordan~block}$ of size $n_i$ associated with eigenvalue $\\lambda_i$. \n",
    "\n",
    "Jordan block 有以下特性\n",
    "1. $J_i$ is upper bidiagonal with eigenvalues on the diagonal entries and 1's on the upper bidiagonal entries. ($J_i$ 為上二重對角矩陣, 對角線的元素為eigenvalues, 上對角線的元素為1)\n",
    "2. A diagonal J is a special case of n Jordan blocks of size ni = 1 \n",
    "3. Jordan form of A is unique, up to permutations of diagonal blocks\n",
    "4. There may be multiple blocks associated with the same eigenvalue\n",
    "5. Jordan form is a conceptual tool and is never used in numerical computations\n",
    "\n",
    "Jordan Canonical Form可以在Python上實現，利用Sympy的Matrix函式中的jordan_form，其解釋如下:\n",
    "* Return $(P,J)$ where $J$ is a Jordan block matrix and $P$ is a matrix such that $M=P^{−1}JP$\n",
    "\n",
    "##### Jordan Canonical Form在Python上執行的範例"
   ]
  },
  {
   "cell_type": "code",
   "execution_count": 1,
   "id": "2c4f18d3",
   "metadata": {},
   "outputs": [
    {
     "data": {
      "text/latex": [
       "$\\displaystyle \\left[\\begin{matrix}5 & 4 & 2 & 1\\\\0 & 1 & -1 & -1\\\\-1 & -1 & 3 & 0\\\\1 & 1 & -1 & 2\\end{matrix}\\right]$"
      ],
      "text/plain": [
       "Matrix([\n",
       "[ 5,  4,  2,  1],\n",
       "[ 0,  1, -1, -1],\n",
       "[-1, -1,  3,  0],\n",
       "[ 1,  1, -1,  2]])"
      ]
     },
     "execution_count": 1,
     "metadata": {},
     "output_type": "execute_result"
    }
   ],
   "source": [
    "# 在Python中執行Jordan Form\n",
    "import numpy as np\n",
    "from sympy import Matrix, pprint\n",
    "\n",
    "a = np.array([[5, 4, 2, 1], [0, 1, -1, -1], [-1, -1, 3, 0], [1, 1, -1, 2]])\n",
    "m = Matrix(a)\n",
    "m"
   ]
  },
  {
   "cell_type": "code",
   "execution_count": 2,
   "id": "4271818b",
   "metadata": {},
   "outputs": [
    {
     "data": {
      "text/latex": [
       "$\\displaystyle \\left[\\begin{matrix}1 & 0 & 0 & 0\\\\0 & 2 & 0 & 0\\\\0 & 0 & 4 & 1\\\\0 & 0 & 0 & 4\\end{matrix}\\right]$"
      ],
      "text/plain": [
       "Matrix([\n",
       "[1, 0, 0, 0],\n",
       "[0, 2, 0, 0],\n",
       "[0, 0, 4, 1],\n",
       "[0, 0, 0, 4]])"
      ]
     },
     "execution_count": 2,
     "metadata": {},
     "output_type": "execute_result"
    }
   ],
   "source": [
    "P, J = m.jordan_form()\n",
    "\n",
    "J"
   ]
  },
  {
   "cell_type": "code",
   "execution_count": 3,
   "id": "d7c1ec55",
   "metadata": {},
   "outputs": [
    {
     "data": {
      "text/latex": [
       "$\\displaystyle \\left[\\begin{matrix}-1 & 1 & 1 & 1\\\\1 & -1 & 0 & 0\\\\0 & 0 & -1 & 0\\\\0 & 1 & 1 & 0\\end{matrix}\\right]$"
      ],
      "text/plain": [
       "Matrix([\n",
       "[-1,  1,  1, 1],\n",
       "[ 1, -1,  0, 0],\n",
       "[ 0,  0, -1, 0],\n",
       "[ 0,  1,  1, 0]])"
      ]
     },
     "execution_count": 3,
     "metadata": {},
     "output_type": "execute_result"
    }
   ],
   "source": [
    "P"
   ]
  },
  {
   "cell_type": "code",
   "execution_count": 4,
   "id": "5b84d3ef",
   "metadata": {},
   "outputs": [
    {
     "data": {
      "text/latex": [
       "$\\displaystyle \\left[\\begin{matrix}0 & 1 & 1 & 1\\\\0 & 0 & 1 & 1\\\\0 & 0 & -1 & 0\\\\1 & 1 & 1 & 0\\end{matrix}\\right]$"
      ],
      "text/plain": [
       "Matrix([\n",
       "[0, 1,  1, 1],\n",
       "[0, 0,  1, 1],\n",
       "[0, 0, -1, 0],\n",
       "[1, 1,  1, 0]])"
      ]
     },
     "execution_count": 4,
     "metadata": {},
     "output_type": "execute_result"
    }
   ],
   "source": [
    "P1 = P.inv()\n",
    "P1"
   ]
  },
  {
   "cell_type": "code",
   "execution_count": 5,
   "id": "680663bb",
   "metadata": {},
   "outputs": [
    {
     "data": {
      "text/latex": [
       "$\\displaystyle \\left[\\begin{matrix}1 & 0 & 0 & 0\\\\0 & 2 & 0 & 0\\\\0 & 0 & 4 & 1\\\\0 & 0 & 0 & 4\\end{matrix}\\right]$"
      ],
      "text/plain": [
       "Matrix([\n",
       "[1, 0, 0, 0],\n",
       "[0, 2, 0, 0],\n",
       "[0, 0, 4, 1],\n",
       "[0, 0, 0, 4]])"
      ]
     },
     "execution_count": 5,
     "metadata": {},
     "output_type": "execute_result"
    }
   ],
   "source": [
    "# 奇怪的地方在於，Sympy文件說 M=PJP^{−1}，但是我測試實際上是M=P^{−1}JP (和老師講義上的一致)，所以Sympy文件有誤?\n",
    "P1*m*P"
   ]
  },
  {
   "cell_type": "markdown",
   "id": "2c1cf556",
   "metadata": {},
   "source": [
    "已知$$J = T^{-1}AT  = \\begin{bmatrix}\n",
    "J_1 & \\;     & \\; \\\\\n",
    "\\;  & \\ddots & \\; \\\\ \n",
    "\\;  & \\;     & J_r\\end{bmatrix}, \\text{where } T \\in \\mathbb{C}^{n \\times n} $$\n",
    "\n",
    "因此$$AT = TJ$$\n",
    "將$T$展開為$T = \\left[ T_1~~T_2~~\\cdots~~ T_r \\right]$，因此\n",
    "$$A\\left[ T_1~~T_2~~\\cdots~~ T_r \\right] = \\left[ T_1~~T_2~~\\cdots~~ T_r \\right]\\begin{bmatrix}\n",
    "J_1 & \\;     & \\; \\\\\n",
    "\\;  & \\ddots & \\; \\\\ \n",
    "\\;  & \\;     & J_r\\end{bmatrix}$$\n",
    "\n",
    "再次展開\n",
    "\n",
    "$$\\left[ A T_1 ~~ A T_2 ~~ \\cdots ~~A T_r \\right]  = \\left[ T_1~~T_2~~\\cdots~~ T_r \\right]\\begin{bmatrix}\n",
    "J_1 & \\;     & \\; \\\\\n",
    "\\;  & \\ddots & \\; \\\\ \n",
    "\\;  & \\;     & J_r\\end{bmatrix}\n",
    "=\n",
    "\\left[  T_1 J_1 ~~ T_2 J_2 ~~ \\cdots ~~ T_r J_r  \\right]$$\n",
    "\n",
    "$\\text{where}~T_i \\in \\mathbb{C}^{n \\times n_i},~J_i \\in \\mathbb{C}^{n_i \\times n_i}$, 因此知道\n",
    "\n",
    "$$\\left[ A T_1 ~~ A T_2 ~~ \\cdots ~~A T_r \\right]\n",
    "=\n",
    "\\left[  \\underbrace{\\underbrace{T_1 J_1}_{n \\times n_1} ~~ \\underbrace{T_2 J_2}_{n \\times n_2} ~~ \\cdots ~~ \n",
    "\\underbrace{T_r J_r}_{n \\times n_r}}_{n \\times n}  \\right]$$\n",
    "\n",
    "如果個別抽出來看($1 \\leq i \\leq r$)\n",
    "\n",
    "$$A T_i = T_i J_i = T_i \\begin{bmatrix}\n",
    "\\lambda_i & 1            & \\;     & \\;  \\\\\n",
    "\\;        & \\lambda_i    & \\ddots & \\;  \\\\\n",
    "\\;        & \\;           & \\ddots & 1   \\\\\n",
    "\\;        & \\;           & \\;     & \\lambda_i       \n",
    "\\end{bmatrix}$$\n",
    "\n",
    "Let $T_i = \\left[v_{i1} ~~v_{i2} ~~ \\cdots ~~ v_{i n_i}  \\right]$, where $v_i \\in \\mathbb{C}^{n \\times 1}$. Then\n",
    "\n",
    "$$A T_i = T_i J_i \n",
    "=\n",
    "\\left[v_{i1} ~~v_{i2} ~~ \\cdots ~~ v_{i n_i}  \\right]\n",
    "\\begin{bmatrix}\n",
    "\\lambda_i & 1            & \\;     & \\;  \\\\\n",
    "\\;        & \\lambda_i    & \\ddots & \\;  \\\\\n",
    "\\;        & \\;           & \\ddots & 1   \\\\\n",
    "\\;        & \\;           & \\;     & \\lambda_i       \n",
    "\\end{bmatrix}\n",
    "=\n",
    "\\left[ \\lambda_i v_{i1} ~~~~ v_{i1}+\\lambda_i v_{i2} ~~~~ \\cdots \n",
    "~~~~ v_{i n_{i-1}} +\\lambda_i v_{i n_i}  \\right]\n",
    "$$\n",
    "\n",
    "or\n",
    "\n",
    "$$A \\left[v_{i1} ~~v_{i2} ~~ \\cdots ~~ v_{i n_i}  \\right] \n",
    "=\n",
    " \\left[A v_{i1} ~~ A v_{i2} ~~ \\cdots ~~ A v_{i n_i}  \\right] \n",
    "=\n",
    "\\left[ \\lambda_i v_{i1} ~~~~ v_{i1}+\\lambda_i v_{i2} ~~~~ \\cdots \n",
    "~~~~ v_{i n_{i-1}} +\\lambda_i v_{i n_i}  \\right]\n",
    "$$\n",
    "\n",
    "一項一項看\n",
    "* $A v_{i1} = \\lambda_i v_{i1}$\n",
    "* $A v_{i2} = \\lambda_i v_{i2} + v_{i1}$\n",
    "* $A v_{i3} = \\lambda_i v_{i3} + v_{i2}$\n",
    "* $\\vdots$\n",
    "* $A v_{i n_i} = \\lambda_i v_{i n_i} + v_{i n_{i-1}}$\n",
    "\n",
    "歸納後\n",
    "\n",
    "1. $A v_{i1} = \\lambda_i v_{i1}$\n",
    "2. $A v_{ik} = \\lambda_i v_{i k} + v_{i (k-1)}$ for $k = 2,~3,~\\cdots~,~n_i$ \n",
    "\n",
    "* the vectors $v_{i1},~v_{i2},~\\cdots~,~v_{i n_i}$ are sometimes called generalized eigenvectors associated with $\\lambda_i$.\n",
    "\n",
    "* $\\mathcal{R}(T_i)$ is called the eigenspace associated with $\\lambda_i$, since $ v \\in \\mathcal{R}(T_i) \\Longrightarrow Av \\in \\mathcal{R}(T_i)$"
   ]
  },
  {
   "cell_type": "markdown",
   "id": "55c6dfa9",
   "metadata": {},
   "source": [
    "#### Example: Generalized eigenvector $(n_i = 3)$\n",
    "\n",
    "Recall \n",
    "\n",
    "$A v_{i1} = \\lambda_i v_{i1}$<br>\n",
    "$A v_{ik} = \\lambda_i v_{i k} + v_{i (k-1)}~$ for $~k = 2,~3,~\\cdots~,~n_i$ \n",
    "\n",
    "For $n_i = 3$, the equations become<br>\n",
    "$A v_{i1} = \\lambda_i v_{i1}$<br>\n",
    "$A v_{i2} = \\lambda_i v_{i 2} + v_{i1}~$<br>\n",
    "$A v_{i3} = \\lambda_i v_{i 3} + v_{i2}~$"
   ]
  },
  {
   "cell_type": "markdown",
   "id": "3fdf32e5",
   "metadata": {},
   "source": [
    "## Minimal polynomial\n",
    "\n",
    "##### 簡單來說，已知矩陣$A$的特徵多項式$\\chi(s)$，藉由Cayley-Hamilton theorem得知$\\chi(A) = 0$，依照minimal polynomial \"或許\" 存在一個階數比$\\chi(s)$小(或是說階數$<n$)的多項式$p$，也滿足 $p(A) = 0$。\n",
    "\n",
    "#### 維基百科上的介紹\n",
    "In linear algebra, the minimal polynomial $\\mu_A$ of an $n \\times n$ matrix $A$ over a field $F$ is the monic polynomial $P$ over $F$ of least degree such that P(A) = 0. Any other polynomial Q with Q(A) = 0 is a (polynomial) multiple of $\\mu_A$.\n",
    "\n",
    "The following three statements are equivalent:\n",
    "\n",
    "1. $λ$ is a root of $\\mu_A$,\n",
    "2. $λ$ is a root of the characteristic polynomial $\\chi_A$ of A,\n",
    "3. $λ$ is an eigenvalue of matrix A.\n",
    "\n",
    "#### Monic polynomial\n",
    "In algebra, a monic polynomial is a single-variable polynomial (that is, a univariate polynomial) in which the leading coefficient (the nonzero coefficient of highest degree) is equal to 1. Therefore, a monic polynomial has the form:\n",
    "\n",
    "$${\\displaystyle x^{n}+c_{n-1}x^{n-1}+\\cdots +c_{2}x^{2}+c_{1}x+c_{0}}x^{n}+c_{n-1}x^{n-1}+\\cdots +c_{2}x^{2}+c_{1}x+c_{0}$$\n",
    "\n",
    "#### 老師講義\n",
    "Suppose $A \\in \\mathbb{R}^{n \\times n}$ and \n",
    "$$\\chi(s) = \\text{det}(sI-A) = (s-\\lambda_1)^{d_1} (s-\\lambda_2)^{d_2} \\cdots (s-\\lambda_r)^{d_r} $$\n",
    "\n",
    "where $\\lambda_i \\neq \\lambda_j$ for $i \\neq j$, and $d_1 + d_2 + \\cdots + d_r = \\sum_{i=1}^{r} d_i = n $ (特徵多項式不重複特徵值，且總冪次數為n)\n",
    "\n",
    "By Cayley-Hamilton theorem, we know $\\chi(A) = 0$\n",
    "\n",
    "There may be polynomial $p(s)$ with degree $< n$ such that $p(A) = 0$.\n",
    "\n",
    "A monic polynomial $\\psi(s)$ is the minimal polynomial of $A$ if\n",
    "*  $\\psi(A) = 0$, and\n",
    "*  $\\psi$ is of the least degree among all such polynomials.\n",
    "\n",
    "##### 也就是說，已知A的特徵多項式$\\chi(s)$，藉由Cayley-Hamilton theorem得知$\\chi(A) = 0$，依照minimal polynomial \"或許\" 存在一個階數比$\\chi(s)$小(或是說階數$<n$)的多項式$p$，也滿足 $p(A) = 0$。\n",
    "\n"
   ]
  },
  {
   "cell_type": "markdown",
   "id": "beb7572d",
   "metadata": {},
   "source": [
    "#### Example\n",
    "$A = \\text{diag}(\\lambda_1,~\\lambda_1,~\\lambda_2),~~ \\chi(s) = (s-\\lambda_1)^2 (s-\\lambda_2).$\n",
    "\n",
    "for $p(s) = (s-\\lambda_1) (s-\\lambda_2),~~p(A)=(A-\\lambda_1) (A-\\lambda_2)=\n",
    "\\begin{bmatrix}\n",
    "0 & 0 & 0 \\\\\n",
    "0 & 0 & 0 \\\\\n",
    "0 & 0 & \\lambda_2 - \\lambda_1\n",
    "\\end{bmatrix}\n",
    "\\begin{bmatrix}\n",
    "\\lambda_1 - \\lambda_2 & 0 & 0 \\\\\n",
    "0 & \\lambda_1 - \\lambda_2 & 0 \\\\\n",
    "0 & 0 & 0\n",
    "\\end{bmatrix}\n",
    "=0\n",
    "$"
   ]
  },
  {
   "cell_type": "markdown",
   "id": "8fee4cff",
   "metadata": {},
   "source": [
    "## Some Facts of Jordan Form\n",
    "\n",
    "#### Fact 1\n",
    "The minimal polynomial $\\psi(s)$ of $A$ has the form \n",
    "\n",
    "$$ \\psi(s) = (s-\\lambda_1)^{m_1} (s-\\lambda_2)^{m_2} \\cdots (s-\\lambda_r)^{m_r} $$ \n",
    "\n",
    "where $1 \\leq m_k \\leq d_k$ for $1 \\leq k \\leq r$.  \n",
    "\n",
    "For characteristic equation $$ \\chi(s) = \\text{det}(sI-A) = (s-\\lambda_1)^{d_1} (s-\\lambda_2)^{d_2} \\cdots (s-\\lambda_r)^{d_r}  $$\n",
    "\n",
    "#### Fact 2\n",
    "The number of Jordan blocks associated with eigenvalue $\\lambda_i$ equals the number of independent eigenvectors associated with $\\lambda_i$, i.e., $~~\\text{dim} (\\mathcal{N}(\\lambda_i I - A)) = $ number of Jordan blocks.\n",
    "\n",
    "#### Fact 3\n",
    "Jordan blocks associated with $\\lambda_i$ are of size $\\leq m_i$ and there is a Jordan block of size $m_i$.\n",
    "\n",
    "#### Fact 4\n",
    "Sum of sizes of Jordan blocks associated with $\\lambda_i= d_i$."
   ]
  },
  {
   "cell_type": "markdown",
   "id": "9aee6430",
   "metadata": {},
   "source": [
    "#### Example 待補"
   ]
  },
  {
   "cell_type": "markdown",
   "id": "2aab74c1",
   "metadata": {},
   "source": [
    "## Block decoupled systems\n",
    "\n",
    "回顧: if A is diagonalizable, then the trajectory of $\\dot{x}(t) = Ax(t)$ is a linear combination of modes $e^{\\lambda_i t} v_i$ where $\\lambda_i$ and $v_i$ are eigenvalues and corresponding eigenvectors of A. In this case the Jordan form of A is diagonal, each Jordan block has size 1."
   ]
  },
  {
   "cell_type": "markdown",
   "id": "46c6df79",
   "metadata": {},
   "source": []
  },
  {
   "cell_type": "markdown",
   "id": "ec4d7514",
   "metadata": {},
   "source": []
  },
  {
   "cell_type": "markdown",
   "id": "a9647e46",
   "metadata": {},
   "source": []
  },
  {
   "cell_type": "markdown",
   "id": "2b055d04",
   "metadata": {},
   "source": []
  },
  {
   "cell_type": "markdown",
   "id": "5c9ebf62",
   "metadata": {},
   "source": []
  },
  {
   "cell_type": "markdown",
   "id": "7005c3f9",
   "metadata": {},
   "source": []
  },
  {
   "cell_type": "markdown",
   "id": "74cb10ce",
   "metadata": {},
   "source": []
  }
 ],
 "metadata": {
  "kernelspec": {
   "display_name": "Python 3",
   "language": "python",
   "name": "python3"
  },
  "language_info": {
   "codemirror_mode": {
    "name": "ipython",
    "version": 3
   },
   "file_extension": ".py",
   "mimetype": "text/x-python",
   "name": "python",
   "nbconvert_exporter": "python",
   "pygments_lexer": "ipython3",
   "version": "3.7.3"
  }
 },
 "nbformat": 4,
 "nbformat_minor": 5
}
